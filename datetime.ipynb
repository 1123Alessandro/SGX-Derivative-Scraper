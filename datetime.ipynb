{
 "cells": [
  {
   "cell_type": "code",
   "execution_count": 38,
   "id": "04d88dd1-4736-41e1-ae89-0c5c4cf86b4c",
   "metadata": {},
   "outputs": [],
   "source": [
    "import time\n",
    "import os\n",
    "from selenium import webdriver\n",
    "from selenium.webdriver.common.by import By\n",
    "from selenium.webdriver.common.keys import Keys\n",
    "import json\n",
    "\n",
    "# WINDOWS\n",
    "service = webdriver.ChromeService('./chromedriver.exe')\n",
    "\n",
    "# LINUX\n",
    "# service = webdriver.ChromeService('./chromedriver-linux64/chromedriver')\n",
    "\n",
    "options = webdriver.ChromeOptions()\n",
    "options.add_argument('--start-maximized')\n",
    "options.add_experimental_option('prefs', {\n",
    "    'download.default_directory': os.path.join(os.getcwd(), 'diels')\n",
    "})\n",
    "\n",
    "# LINUX\n",
    "options.add_argument('--headless')\n",
    "# options.binary_location = './chrome-linux64/chrome'\n",
    "\n",
    "driver = webdriver.Chrome(service=service, options=options)\n",
    "\n",
    "driver.get('https://www.sgx.com/research-education/derivatives')\n"
   ]
  },
  {
   "cell_type": "code",
   "execution_count": 39,
   "id": "45908607-400a-481c-8f15-6550f407fb41",
   "metadata": {},
   "outputs": [],
   "source": [
    "dates = driver.find_element(By.XPATH, '//*[@id=\"page-container\"]/template-base/div/div/section[1]/div/sgx-widgets-wrapper/widget-research-and-reports-download[1]/widget-reports-derivatives-tick-and-trade-cancellation/div/sgx-input-select[2]/sgx-select-model')\n",
    "\n",
    "entries = dates.get_property('_options')"
   ]
  },
  {
   "cell_type": "code",
   "execution_count": 43,
   "id": "e39d5e92-f8b2-433a-a8a7-b2387c01d6f6",
   "metadata": {},
   "outputs": [
    {
     "data": {
      "text/plain": [
       "'05 Mar 2024'"
      ]
     },
     "execution_count": 43,
     "metadata": {},
     "output_type": "execute_result"
    }
   ],
   "source": [
    "entries[0]['label']"
   ]
  },
  {
   "cell_type": "code",
   "execution_count": 3,
   "id": "1ef686e7-23e0-41c5-bf48-59a5599ca140",
   "metadata": {},
   "outputs": [],
   "source": [
    "from datetime import datetime, timedelta"
   ]
  },
  {
   "cell_type": "code",
   "execution_count": 4,
   "id": "c5c7209c-8579-4cbc-a32a-5e04bbaab312",
   "metadata": {},
   "outputs": [],
   "source": [
    "day = datetime.now()"
   ]
  },
  {
   "cell_type": "code",
   "execution_count": 5,
   "id": "60c1ad92-a1f5-4491-a0cc-1e55aca9ce27",
   "metadata": {},
   "outputs": [
    {
     "data": {
      "text/plain": [
       "'06 Mar 2024'"
      ]
     },
     "execution_count": 5,
     "metadata": {},
     "output_type": "execute_result"
    }
   ],
   "source": [
    "day.strftime('%d %b %Y')"
   ]
  },
  {
   "cell_type": "code",
   "execution_count": 9,
   "id": "2637d764-d4d2-45d8-a58b-bddb64038c89",
   "metadata": {},
   "outputs": [
    {
     "ename": "TypeError",
     "evalue": "'str' object cannot be interpreted as an integer",
     "output_type": "error",
     "traceback": [
      "\u001b[1;31m---------------------------------------------------------------------------\u001b[0m",
      "\u001b[1;31mTypeError\u001b[0m                                 Traceback (most recent call last)",
      "Cell \u001b[1;32mIn[9], line 1\u001b[0m\n\u001b[1;32m----> 1\u001b[0m \u001b[43mdatetime\u001b[49m\u001b[43m(\u001b[49m\u001b[38;5;124;43m'\u001b[39;49m\u001b[38;5;124;43m05 Mar 2024\u001b[39;49m\u001b[38;5;124;43m'\u001b[39;49m\u001b[43m)\u001b[49m\n",
      "\u001b[1;31mTypeError\u001b[0m: 'str' object cannot be interpreted as an integer"
     ]
    }
   ],
   "source": [
    "datetime('05 Mar 2024')"
   ]
  }
 ],
 "metadata": {
  "kernelspec": {
   "display_name": "Python 3 (ipykernel)",
   "language": "python",
   "name": "python3"
  },
  "language_info": {
   "codemirror_mode": {
    "name": "ipython",
    "version": 3
   },
   "file_extension": ".py",
   "mimetype": "text/x-python",
   "name": "python",
   "nbconvert_exporter": "python",
   "pygments_lexer": "ipython3",
   "version": "3.10.5"
  }
 },
 "nbformat": 4,
 "nbformat_minor": 5
}
