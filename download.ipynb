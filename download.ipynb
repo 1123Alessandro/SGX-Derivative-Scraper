{
 "cells": [
  {
   "cell_type": "code",
   "execution_count": 21,
   "id": "8b034d20-07ef-42dc-a7d8-93d022424b56",
   "metadata": {},
   "outputs": [
    {
     "name": "stdout",
     "output_type": "stream",
     "text": [
      "C:\\Users\\araza\\Documents\\1\\gits\\SGX-Derivative-Scraper\n"
     ]
    }
   ],
   "source": []
  },
  {
   "cell_type": "code",
   "execution_count": 27,
   "id": "ecfa7c3c-c8bf-43b0-b7ff-bd30724b9e9f",
   "metadata": {},
   "outputs": [],
   "source": [
    "import time\n",
    "import os\n",
    "from selenium import webdriver\n",
    "from selenium.webdriver.common.by import By\n",
    "from selenium.webdriver.common.keys import Keys\n",
    "\n",
    "# WINDOWS\n",
    "service = webdriver.ChromeService('./chromedriver.exe')\n",
    "\n",
    "# LINUX\n",
    "# service = webdriver.ChromeService('./chromedriver-linux64/chromedriver')\n",
    "\n",
    "options = webdriver.ChromeOptions()\n",
    "options.add_argument('--start-maximized')\n",
    "options.add_experimental_option('prefs', {\n",
    "    'download.default_directory': os.path.join(os.getcwd(), 'diels')\n",
    "})\n",
    "\n",
    "# LINUX\n",
    "# options.binary_location = './chrome-linux64/chrome'\n",
    "\n",
    "driver = webdriver.Chrome(service=service, options=options)\n",
    "\n",
    "driver.get('https://www.sgx.com/research-education/derivatives')\n"
   ]
  },
  {
   "cell_type": "code",
   "execution_count": 28,
   "id": "27ed79b9-5602-46b5-ae90-63256c914115",
   "metadata": {},
   "outputs": [],
   "source": [
    "button = driver.find_element(By.XPATH, '//*[@id=\"page-container\"]/template-base/div/div/section[1]/div/sgx-widgets-wrapper/widget-research-and-reports-download[1]/widget-reports-derivatives-tick-and-trade-cancellation/div/button')"
   ]
  },
  {
   "cell_type": "code",
   "execution_count": 29,
   "id": "1d29147e-5ec0-48b6-b81b-7aff99d38966",
   "metadata": {},
   "outputs": [],
   "source": [
    "button.click()"
   ]
  },
  {
   "cell_type": "code",
   "execution_count": 11,
   "id": "bfdfb502-490c-48d4-890c-0722306f2abf",
   "metadata": {},
   "outputs": [],
   "source": [
    "# driver.execute_script('arguments[0].click()', button)"
   ]
  },
  {
   "cell_type": "code",
   "execution_count": null,
   "id": "07042521-0548-44ce-8e84-aa8fdfc460b0",
   "metadata": {},
   "outputs": [],
   "source": []
  }
 ],
 "metadata": {
  "kernelspec": {
   "display_name": "Python 3 (ipykernel)",
   "language": "python",
   "name": "python3"
  },
  "language_info": {
   "codemirror_mode": {
    "name": "ipython",
    "version": 3
   },
   "file_extension": ".py",
   "mimetype": "text/x-python",
   "name": "python",
   "nbconvert_exporter": "python",
   "pygments_lexer": "ipython3",
   "version": "3.10.5"
  }
 },
 "nbformat": 4,
 "nbformat_minor": 5
}
