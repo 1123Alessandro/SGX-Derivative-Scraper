{
 "cells": [
  {
   "cell_type": "code",
   "execution_count": 1,
   "id": "f454df46-4c78-48c1-b660-9b4d8af138ce",
   "metadata": {},
   "outputs": [],
   "source": [
    "import pandas as pd"
   ]
  },
  {
   "cell_type": "code",
   "execution_count": 57,
   "id": "dd1f95c8-04fe-47f8-a9c7-fc7038e94dcd",
   "metadata": {},
   "outputs": [],
   "source": [
    "a = pd.read_parquet('details/tracker.parquet')"
   ]
  },
  {
   "cell_type": "code",
   "execution_count": 58,
   "id": "1304d2a7-0071-4880-9dc4-416a725e0873",
   "metadata": {},
   "outputs": [],
   "source": [
    "ll = a[a.isna().any(axis=1)].index"
   ]
  },
  {
   "cell_type": "code",
   "execution_count": 59,
   "id": "a4444c8b-cdab-4214-b136-ad5b952607cd",
   "metadata": {},
   "outputs": [
    {
     "data": {
      "text/plain": [
       "Index(['20240312'], dtype='object')"
      ]
     },
     "execution_count": 59,
     "metadata": {},
     "output_type": "execute_result"
    }
   ],
   "source": [
    "ll"
   ]
  },
  {
   "cell_type": "code",
   "execution_count": 60,
   "id": "375efef1-03db-46e9-b369-b629544e19e6",
   "metadata": {},
   "outputs": [
    {
     "name": "stdout",
     "output_type": "stream",
     "text": [
      "this is the ll: 20240312\n"
     ]
    }
   ],
   "source": [
    "for i in ll:\n",
    "    print('this is the ll: ' + i)"
   ]
  },
  {
   "cell_type": "code",
   "execution_count": 62,
   "id": "03953bf5-ca0d-4644-ab5d-19104304c967",
   "metadata": {},
   "outputs": [],
   "source": [
    "    dic = {\n",
    "        'Tick': 1,\n",
    "        'Tick Data Structure': 2,\n",
    "        'Trade Cancellation': 3,\n",
    "        'Trade Cancellation Data Structure': 3\n",
    "    }\n"
   ]
  },
  {
   "cell_type": "code",
   "execution_count": 64,
   "id": "920575f7-159c-449f-895e-7f64b026b3fa",
   "metadata": {},
   "outputs": [],
   "source": [
    "x = pd.DataFrame(dic, index=['allah'])"
   ]
  },
  {
   "cell_type": "code",
   "execution_count": 67,
   "id": "89ddb213-f974-4e12-ab98-4d0332175f0a",
   "metadata": {},
   "outputs": [],
   "source": [
    "df = pd.concat([a, x])"
   ]
  },
  {
   "cell_type": "code",
   "execution_count": 68,
   "id": "591fc84a-f363-4f15-9225-04884c57eb54",
   "metadata": {},
   "outputs": [
    {
     "data": {
      "text/html": [
       "<div>\n",
       "<style scoped>\n",
       "    .dataframe tbody tr th:only-of-type {\n",
       "        vertical-align: middle;\n",
       "    }\n",
       "\n",
       "    .dataframe tbody tr th {\n",
       "        vertical-align: top;\n",
       "    }\n",
       "\n",
       "    .dataframe thead th {\n",
       "        text-align: right;\n",
       "    }\n",
       "</style>\n",
       "<table border=\"1\" class=\"dataframe\">\n",
       "  <thead>\n",
       "    <tr style=\"text-align: right;\">\n",
       "      <th></th>\n",
       "      <th>Tick</th>\n",
       "      <th>Tick Data Structure</th>\n",
       "      <th>Trade Cancellation</th>\n",
       "      <th>Trade Cancellation Data Structure</th>\n",
       "    </tr>\n",
       "  </thead>\n",
       "  <tbody>\n",
       "    <tr>\n",
       "      <th>20240312</th>\n",
       "      <td>None</td>\n",
       "      <td>None</td>\n",
       "      <td>None</td>\n",
       "      <td>None</td>\n",
       "    </tr>\n",
       "  </tbody>\n",
       "</table>\n",
       "</div>"
      ],
      "text/plain": [
       "          Tick Tick Data Structure Trade Cancellation  \\\n",
       "20240312  None                None               None   \n",
       "\n",
       "         Trade Cancellation Data Structure  \n",
       "20240312                              None  "
      ]
     },
     "execution_count": 68,
     "metadata": {},
     "output_type": "execute_result"
    }
   ],
   "source": [
    "df[df.isna().any(axis=1)]"
   ]
  }
 ],
 "metadata": {
  "kernelspec": {
   "display_name": "Python 3 (ipykernel)",
   "language": "python",
   "name": "python3"
  },
  "language_info": {
   "codemirror_mode": {
    "name": "ipython",
    "version": 3
   },
   "file_extension": ".py",
   "mimetype": "text/x-python",
   "name": "python",
   "nbconvert_exporter": "python",
   "pygments_lexer": "ipython3",
   "version": "3.10.5"
  }
 },
 "nbformat": 4,
 "nbformat_minor": 5
}
