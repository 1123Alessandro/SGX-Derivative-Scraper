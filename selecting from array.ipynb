{
 "cells": [
  {
   "cell_type": "code",
   "execution_count": 1,
   "id": "be6b05f7-d5e3-4032-a75b-423416761e45",
   "metadata": {},
   "outputs": [],
   "source": [
    "import time\n",
    "import os\n",
    "from selenium import webdriver\n",
    "from selenium.webdriver.common.by import By\n",
    "from selenium.webdriver.common.keys import Keys\n",
    "import json\n",
    "\n",
    "# WINDOWS\n",
    "service = webdriver.ChromeService('./chromedriver.exe')\n",
    "\n",
    "# LINUX\n",
    "# service = webdriver.ChromeService('./chromedriver-linux64/chromedriver')\n",
    "\n",
    "options = webdriver.ChromeOptions()\n",
    "options.add_argument('--start-maximized')\n",
    "options.add_experimental_option('prefs', {\n",
    "    'download.default_directory': os.path.join(os.getcwd(), 'diels')\n",
    "})\n",
    "\n",
    "# LINUX\n",
    "# options.add_argument('--headless')\n",
    "# options.binary_location = './chrome-linux64/chrome'\n",
    "\n",
    "driver = webdriver.Chrome(service=service, options=options)\n",
    "\n",
    "driver.get('https://www.sgx.com/research-education/derivatives')\n"
   ]
  },
  {
   "cell_type": "markdown",
   "id": "e2074319-7e65-4b08-bc08-0997bc0268d9",
   "metadata": {},
   "source": [
    "# Selecting a date"
   ]
  },
  {
   "cell_type": "code",
   "execution_count": 3,
   "id": "22102eea-0585-4965-9fb2-4eac2c8cb23a",
   "metadata": {},
   "outputs": [],
   "source": [
    "dates = driver.find_element(By.XPATH, '//*[@id=\"page-container\"]/template-base/div/div/section[1]/div/sgx-widgets-wrapper/widget-research-and-reports-download[1]/widget-reports-derivatives-tick-and-trade-cancellation/div/sgx-input-select[2]/sgx-select-model')"
   ]
  },
  {
   "cell_type": "code",
   "execution_count": 4,
   "id": "a244ca5f-a376-494a-b551-cc6ab9708417",
   "metadata": {},
   "outputs": [],
   "source": [
    "entries = dates.get_property('_options')"
   ]
  },
  {
   "cell_type": "code",
   "execution_count": 5,
   "id": "9dc3d84d-32f9-4ca4-ad54-299ab049dce2",
   "metadata": {},
   "outputs": [],
   "source": [
    "entries[2]['selected'] = True\n",
    "entries[0]['selected'] = False"
   ]
  },
  {
   "cell_type": "code",
   "execution_count": 6,
   "id": "c7a55ee4-f1b2-45d6-b5a4-9a5cd86085dc",
   "metadata": {},
   "outputs": [],
   "source": [
    "raw = json.dumps(entries)"
   ]
  },
  {
   "cell_type": "code",
   "execution_count": 7,
   "id": "f8f24c76-0eee-4336-812c-01dfe24c2138",
   "metadata": {},
   "outputs": [
    {
     "data": {
      "text/plain": [
       "'[{\"__sgx\": 1, \"disabled\": false, \"groupId\": null, \"id\": 0, \"isGroup\": false, \"label\": \"04 Mar 2024\", \"selected\": false, \"value\": \"04 Mar 2024\"}, {\"__sgx\": 1, \"disabled\": false, \"groupId\": null, \"id\": 1, \"isGroup\": false, \"label\": \"01 Mar 2024\", \"selected\": false, \"value\": \"01 Mar 2024\"}, {\"__sgx\": 1, \"disabled\": false, \"groupId\": null, \"id\": 2, \"isGroup\": false, \"label\": \"29 Feb 2024\", \"selected\": true, \"value\": \"29 Feb 2024\"}, {\"__sgx\": 1, \"disabled\": false, \"groupId\": null, \"id\": 3, \"isGroup\": false, \"label\": \"28 Feb 2024\", \"selected\": false, \"value\": \"28 Feb 2024\"}, {\"__sgx\": 1, \"disabled\": false, \"groupId\": null, \"id\": 4, \"isGroup\": false, \"label\": \"27 Feb 2024\", \"selected\": false, \"value\": \"27 Feb 2024\"}]'"
      ]
     },
     "execution_count": 7,
     "metadata": {},
     "output_type": "execute_result"
    }
   ],
   "source": [
    "raw"
   ]
  },
  {
   "cell_type": "code",
   "execution_count": 8,
   "id": "9957123d-df71-42cb-ab09-0e50dc31d1cf",
   "metadata": {},
   "outputs": [],
   "source": [
    "driver.execute_script(f\"arguments[0]._options = {raw}\", dates)"
   ]
  },
  {
   "cell_type": "markdown",
   "id": "851d6873-00fd-4079-958c-7b5362f66380",
   "metadata": {},
   "source": [
    "# Selecting type"
   ]
  },
  {
   "cell_type": "code",
   "execution_count": 17,
   "id": "9ae2bafe-2d9d-43ba-9262-4f8bf20b154b",
   "metadata": {},
   "outputs": [],
   "source": [
    "types = driver.find_element(By.XPATH, '//*[@id=\"page-container\"]/template-base/div/div/section[1]/div/sgx-widgets-wrapper/widget-research-and-reports-download[1]/widget-reports-derivatives-tick-and-trade-cancellation/div/sgx-input-select[1]/sgx-select-model')"
   ]
  },
  {
   "cell_type": "code",
   "execution_count": 18,
   "id": "234d16cb-382d-4ae6-9b5f-9bfa03b1ace0",
   "metadata": {},
   "outputs": [],
   "source": [
    "entries = types.get_property('_options')"
   ]
  },
  {
   "cell_type": "code",
   "execution_count": 19,
   "id": "43d564f1-e7a3-488a-9d35-d89e543e712f",
   "metadata": {},
   "outputs": [],
   "source": [
    "entries[1]['selected'] = True\n",
    "entries[0]['selected'] = False"
   ]
  },
  {
   "cell_type": "code",
   "execution_count": 20,
   "id": "0fcf08dc-6370-4309-8abb-1ebcb0b2e55b",
   "metadata": {},
   "outputs": [],
   "source": [
    "raw = json.dumps(entries)"
   ]
  },
  {
   "cell_type": "code",
   "execution_count": 21,
   "id": "15b71c54-e839-4e8e-8451-1b4c877d6a4d",
   "metadata": {},
   "outputs": [
    {
     "data": {
      "text/plain": [
       "'[{\"__sgx\": 1, \"disabled\": false, \"groupId\": null, \"id\": 0, \"isGroup\": false, \"label\": \"Tick\", \"selected\": false, \"value\": \"tick\"}, {\"__sgx\": 1, \"disabled\": false, \"groupId\": null, \"id\": 1, \"isGroup\": false, \"label\": \"Tick Data Structure\", \"selected\": true, \"value\": \"tick_data_structure\"}, {\"__sgx\": 1, \"disabled\": false, \"groupId\": null, \"id\": 2, \"isGroup\": false, \"label\": \"Trade Cancellation\", \"selected\": true, \"value\": \"trade_cancellation\"}, {\"__sgx\": 1, \"disabled\": false, \"groupId\": null, \"id\": 3, \"isGroup\": false, \"label\": \"Trade Cancellation Data Structure\", \"selected\": false, \"value\": \"trade_cancellation_data_structure\"}]'"
      ]
     },
     "execution_count": 21,
     "metadata": {},
     "output_type": "execute_result"
    }
   ],
   "source": [
    "raw"
   ]
  },
  {
   "cell_type": "code",
   "execution_count": 22,
   "id": "9a651fef-cb96-4a8c-a48e-dce9eabf2282",
   "metadata": {},
   "outputs": [],
   "source": [
    "driver.execute_script(f\"arguments[0]._options = {raw}\", types)"
   ]
  },
  {
   "cell_type": "markdown",
   "id": "2eaec09c-4ea4-400b-b1ae-21d3110f01d0",
   "metadata": {},
   "source": [
    "# Download"
   ]
  },
  {
   "cell_type": "code",
   "execution_count": 23,
   "id": "6dc94976-15de-4916-bb91-5a2be98a8ff9",
   "metadata": {},
   "outputs": [],
   "source": [
    "button = driver.find_element(By.XPATH, '//*[@id=\"page-container\"]/template-base/div/div/section[1]/div/sgx-widgets-wrapper/widget-research-and-reports-download[1]/widget-reports-derivatives-tick-and-trade-cancellation/div/button')"
   ]
  },
  {
   "cell_type": "code",
   "execution_count": 24,
   "id": "d6180d5e-8311-47a1-b404-10c97ae231c8",
   "metadata": {},
   "outputs": [],
   "source": [
    "driver.execute_script('arguments[0].click()', button)"
   ]
  },
  {
   "cell_type": "code",
   "execution_count": null,
   "id": "177636c3-1274-487c-8716-1874a961a47e",
   "metadata": {},
   "outputs": [],
   "source": []
  }
 ],
 "metadata": {
  "kernelspec": {
   "display_name": "Python 3 (ipykernel)",
   "language": "python",
   "name": "python3"
  },
  "language_info": {
   "codemirror_mode": {
    "name": "ipython",
    "version": 3
   },
   "file_extension": ".py",
   "mimetype": "text/x-python",
   "name": "python",
   "nbconvert_exporter": "python",
   "pygments_lexer": "ipython3",
   "version": "3.10.5"
  }
 },
 "nbformat": 4,
 "nbformat_minor": 5
}
