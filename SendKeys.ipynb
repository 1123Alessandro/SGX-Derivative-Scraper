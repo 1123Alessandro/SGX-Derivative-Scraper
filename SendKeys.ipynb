{
 "cells": [
  {
   "cell_type": "code",
   "execution_count": 125,
   "id": "b36723b9-e39d-4f98-b51a-dfdc49497e0b",
   "metadata": {},
   "outputs": [],
   "source": [
    "import time\n",
    "from selenium import *\n",
    "from selenium.webdriver.common.by import By\n",
    "\n",
    "# WINDOWS\n",
    "service = webdriver.ChromeService('./chromedriver.exe')\n",
    "\n",
    "# LINUX\n",
    "# service = webdriver.ChromeService('./chromedriver-linux64/chromedriver')\n",
    "\n",
    "options = webdriver.ChromeOptions()\n",
    "options.add_argument('--start-maximized')\n",
    "\n",
    "# LINUX\n",
    "# options.add_argument('--headless')\n",
    "# options.binary_location = './chrome-linux64/chrome'\n",
    "\n",
    "driver = webdriver.Chrome(service=service, options=options)\n",
    "\n",
    "driver.get('https://google.com')"
   ]
  },
  {
   "cell_type": "code",
   "execution_count": 126,
   "id": "c313cea5-a01f-462e-9280-663fddac2720",
   "metadata": {},
   "outputs": [],
   "source": [
    "tb = driver.find_element(By.XPATH, '//*[@id=\"APjFqb\"]')\n",
    "tb.send_keys('testing')"
   ]
  },
  {
   "cell_type": "code",
   "execution_count": 129,
   "id": "645a8c63-c2d2-4bbe-8825-efb4886e6047",
   "metadata": {},
   "outputs": [],
   "source": [
    "driver.execute_script('arguments[0].value = \"hatdog\"', tb)"
   ]
  },
  {
   "cell_type": "code",
   "execution_count": 127,
   "id": "c478bae9-3f1f-404a-b8e8-5d39d020b192",
   "metadata": {},
   "outputs": [
    {
     "data": {
      "text/plain": [
       "'testing'"
      ]
     },
     "execution_count": 127,
     "metadata": {},
     "output_type": "execute_result"
    }
   ],
   "source": [
    "tb.get_property('value')"
   ]
  }
 ],
 "metadata": {
  "kernelspec": {
   "display_name": "Python 3 (ipykernel)",
   "language": "python",
   "name": "python3"
  },
  "language_info": {
   "codemirror_mode": {
    "name": "ipython",
    "version": 3
   },
   "file_extension": ".py",
   "mimetype": "text/x-python",
   "name": "python",
   "nbconvert_exporter": "python",
   "pygments_lexer": "ipython3",
   "version": "3.10.5"
  }
 },
 "nbformat": 4,
 "nbformat_minor": 5
}
