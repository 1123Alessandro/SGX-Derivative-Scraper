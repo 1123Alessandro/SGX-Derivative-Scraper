{
 "cells": [
  {
   "cell_type": "code",
   "execution_count": 7,
   "id": "b36723b9-e39d-4f98-b51a-dfdc49497e0b",
   "metadata": {},
   "outputs": [],
   "source": [
    "import time\n",
    "from selenium import webdriver\n",
    "from selenium.webdriver.common.by import By\n",
    "from selenium.webdriver.common.keys import Keys\n",
    "\n",
    "# WINDOWS\n",
    "service = webdriver.ChromeService('./chromedriver.exe')\n",
    "\n",
    "# LINUX\n",
    "# service = webdriver.ChromeService('./chromedriver-linux64/chromedriver')\n",
    "\n",
    "options = webdriver.ChromeOptions()\n",
    "options.add_argument('--start-maximized')\n",
    "\n",
    "# LINUX\n",
    "# options.add_argument('--headless')\n",
    "# options.binary_location = './chrome-linux64/chrome'\n",
    "\n",
    "driver = webdriver.Chrome(service=service, options=options)\n",
    "\n",
    "driver.get('https://google.com')"
   ]
  },
  {
   "cell_type": "code",
   "execution_count": 8,
   "id": "c313cea5-a01f-462e-9280-663fddac2720",
   "metadata": {},
   "outputs": [],
   "source": [
    "tb = driver.find_element(By.XPATH, '//*[@id=\"APjFqb\"]')\n",
    "tb.send_keys('testing')"
   ]
  },
  {
   "cell_type": "code",
   "execution_count": 9,
   "id": "c478bae9-3f1f-404a-b8e8-5d39d020b192",
   "metadata": {},
   "outputs": [
    {
     "data": {
      "text/plain": [
       "'\\ntesting'"
      ]
     },
     "execution_count": 9,
     "metadata": {},
     "output_type": "execute_result"
    }
   ],
   "source": [
    "tb.get_property('value')"
   ]
  },
  {
   "cell_type": "code",
   "execution_count": 10,
   "id": "645a8c63-c2d2-4bbe-8825-efb4886e6047",
   "metadata": {},
   "outputs": [],
   "source": [
    "driver.execute_script('arguments[0].value = \"hatdog\"', tb)"
   ]
  },
  {
   "cell_type": "code",
   "execution_count": 11,
   "id": "b87066ef-fc07-45e4-a00b-ef24ead4c84f",
   "metadata": {},
   "outputs": [
    {
     "data": {
      "text/plain": [
       "'hatdog'"
      ]
     },
     "execution_count": 11,
     "metadata": {},
     "output_type": "execute_result"
    }
   ],
   "source": [
    "tb.get_property('value')"
   ]
  },
  {
   "cell_type": "code",
   "execution_count": 12,
   "id": "62b7c30c-3e08-45e7-9069-f86e86a4c3c9",
   "metadata": {},
   "outputs": [],
   "source": [
    "tb.send_keys(Keys.ENTER)"
   ]
  },
  {
   "cell_type": "code",
   "execution_count": 13,
   "id": "8ccddbd5-f494-4ab6-b595-ab729f6a3db5",
   "metadata": {},
   "outputs": [],
   "source": [
    "searched = driver.find_element(By.XPATH, '//*[@id=\"APjFqb\"]')"
   ]
  },
  {
   "cell_type": "code",
   "execution_count": 14,
   "id": "b6cb97e6-3800-45b1-8b54-101bc9956d24",
   "metadata": {},
   "outputs": [
    {
     "data": {
      "text/plain": [
       "'hatdog'"
      ]
     },
     "execution_count": 14,
     "metadata": {},
     "output_type": "execute_result"
    }
   ],
   "source": [
    "searched.get_property('value')"
   ]
  },
  {
   "cell_type": "code",
   "execution_count": null,
   "id": "e6463dcd-f1cf-4c8f-93b0-430b75de4305",
   "metadata": {},
   "outputs": [],
   "source": []
  }
 ],
 "metadata": {
  "kernelspec": {
   "display_name": "Python 3 (ipykernel)",
   "language": "python",
   "name": "python3"
  },
  "language_info": {
   "codemirror_mode": {
    "name": "ipython",
    "version": 3
   },
   "file_extension": ".py",
   "mimetype": "text/x-python",
   "name": "python",
   "nbconvert_exporter": "python",
   "pygments_lexer": "ipython3",
   "version": "3.10.5"
  }
 },
 "nbformat": 4,
 "nbformat_minor": 5
}
