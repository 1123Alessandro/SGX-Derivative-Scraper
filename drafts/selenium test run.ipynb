{
 "cells": [
  {
   "cell_type": "code",
   "execution_count": null,
   "id": "20d410bf-90aa-4e18-975a-89f69e283fdd",
   "metadata": {},
   "outputs": [],
   "source": [
    "from selenium import webdriver"
   ]
  },
  {
   "cell_type": "code",
   "execution_count": null,
   "id": "097e3077-70c1-46fd-aee5-58b44c63ef31",
   "metadata": {},
   "outputs": [],
   "source": [
    "service = webdriver.ChromeService('./chromedriver.exe')"
   ]
  },
  {
   "cell_type": "code",
   "execution_count": null,
   "id": "fa19de33-ca5c-4ed5-b180-0944d61a57c7",
   "metadata": {},
   "outputs": [],
   "source": [
    "options = webdriver.ChromeOptions()\n",
    "options.add_argument('--start-maximized')"
   ]
  },
  {
   "cell_type": "code",
   "execution_count": null,
   "id": "0b1fcf70-138a-4cdd-8560-b1aef2e79db1",
   "metadata": {},
   "outputs": [],
   "source": [
    "driver = webdriver.Chrome(service=service, options=options)"
   ]
  },
  {
   "cell_type": "code",
   "execution_count": null,
   "id": "f0d95858-469c-40de-8d65-9dedc04d1e4e",
   "metadata": {},
   "outputs": [],
   "source": [
    "driver.quit()"
   ]
  },
  {
   "cell_type": "code",
   "execution_count": null,
   "id": "656c70a0-1470-48ee-acc8-1a32b4054971",
   "metadata": {},
   "outputs": [],
   "source": []
  }
 ],
 "metadata": {
  "kernelspec": {
   "display_name": "Python 3 (ipykernel)",
   "language": "python",
   "name": "python3"
  },
  "language_info": {
   "codemirror_mode": {
    "name": "ipython",
    "version": 3
   },
   "file_extension": ".py",
   "mimetype": "text/x-python",
   "name": "python",
   "nbconvert_exporter": "python",
   "pygments_lexer": "ipython3",
   "version": "3.10.5"
  }
 },
 "nbformat": 4,
 "nbformat_minor": 5
}
