{
 "cells": [
  {
   "cell_type": "code",
   "execution_count": 9,
   "id": "12ab980f-1e5a-4c02-a0d3-5d10616acabe",
   "metadata": {},
   "outputs": [],
   "source": [
    "import time\n",
    "import os\n",
    "from selenium import webdriver\n",
    "from selenium.webdriver.common.by import By\n",
    "from selenium.webdriver.common.keys import Keys\n",
    "import json\n",
    "\n",
    "# WINDOWS\n",
    "service = webdriver.ChromeService('../chromedriver.exe')\n",
    "\n",
    "# LINUX\n",
    "# service = webdriver.ChromeService('./chromedriver-linux64/chromedriver')\n",
    "\n",
    "options = webdriver.ChromeOptions()\n",
    "options.add_experimental_option('prefs', {\n",
    "    'download.default_directory': os.path.join(os.getcwd(), 'diels')\n",
    "})\n",
    "\n",
    "# LINUX\n",
    "# options.add_argument('--headless')\n",
    "# options.binary_location = './chrome-linux64/chrome'\n",
    "\n",
    "driver = webdriver.Chrome(service=service, options=options)\n",
    "\n",
    "driver.get('https://www.sgx.com/research-education/derivatives')"
   ]
  },
  {
   "cell_type": "code",
   "execution_count": 10,
   "id": "6fee00de-c127-4fad-aae3-16fcaa9cf6c0",
   "metadata": {},
   "outputs": [],
   "source": [
    "vals = driver.find_element(By.XPATH, '//*[@id=\"page-container\"]/template-base/div/div/section[1]/div/sgx-widgets-wrapper/widget-research-and-reports-download[1]/widget-reports-derivatives-tick-and-trade-cancellation/div/sgx-input-select[2]/sgx-select-model')"
   ]
  },
  {
   "cell_type": "code",
   "execution_count": 11,
   "id": "41159777-2d54-46a9-b8e4-e5203d8b163f",
   "metadata": {},
   "outputs": [],
   "source": [
    "opts = vals.get_property('_options')"
   ]
  },
  {
   "cell_type": "code",
   "execution_count": 14,
   "id": "b4975a1d-7ccf-4869-ab5f-90a40cd45f73",
   "metadata": {},
   "outputs": [],
   "source": [
    "dates = [x['label'] for x in opts]"
   ]
  },
  {
   "cell_type": "code",
   "execution_count": 19,
   "id": "17852698-d06c-4705-9652-36fee3f70a81",
   "metadata": {},
   "outputs": [],
   "source": [
    "dates.append(None)"
   ]
  },
  {
   "cell_type": "code",
   "execution_count": 13,
   "id": "6c4edd42-3313-4ba3-bf7f-7e45905a81bc",
   "metadata": {},
   "outputs": [],
   "source": [
    "driver.quit()"
   ]
  },
  {
   "cell_type": "code",
   "execution_count": null,
   "id": "93112f1a-1808-4858-9c72-6bd8da7a17b4",
   "metadata": {},
   "outputs": [],
   "source": []
  }
 ],
 "metadata": {
  "kernelspec": {
   "display_name": "Python 3 (ipykernel)",
   "language": "python",
   "name": "python3"
  },
  "language_info": {
   "codemirror_mode": {
    "name": "ipython",
    "version": 3
   },
   "file_extension": ".py",
   "mimetype": "text/x-python",
   "name": "python",
   "nbconvert_exporter": "python",
   "pygments_lexer": "ipython3",
   "version": "3.10.5"
  }
 },
 "nbformat": 4,
 "nbformat_minor": 5
}
