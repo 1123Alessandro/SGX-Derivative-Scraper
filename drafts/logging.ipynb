{
 "cells": [
  {
   "cell_type": "code",
   "execution_count": 22,
   "id": "ee7a0d16-83d7-4c6f-853c-7dd064a549c7",
   "metadata": {},
   "outputs": [],
   "source": [
    "import logging"
   ]
  },
  {
   "cell_type": "code",
   "execution_count": 23,
   "id": "4d824015-e429-402f-8f53-f722876d867a",
   "metadata": {},
   "outputs": [],
   "source": [
    "logging.basicConfig(level=logging.DEBUG)"
   ]
  },
  {
   "cell_type": "code",
   "execution_count": 24,
   "id": "21d662f6-36fc-4cc3-a00c-b23794244760",
   "metadata": {},
   "outputs": [],
   "source": [
    "logging.debug('hello')"
   ]
  },
  {
   "cell_type": "code",
   "execution_count": 28,
   "id": "e3bdb381-9b26-4227-bcb5-3ffbd51dce55",
   "metadata": {},
   "outputs": [],
   "source": [
    "dic = {\n",
    "    'a': 1,\n",
    "    'b': 2\n",
    "}"
   ]
  },
  {
   "cell_type": "code",
   "execution_count": 29,
   "id": "9f93d2a6-233f-4a81-8e89-c488c8aafcda",
   "metadata": {},
   "outputs": [
    {
     "data": {
      "text/plain": [
       "\"check: {'a': 1, 'b': 2}\""
      ]
     },
     "execution_count": 29,
     "metadata": {},
     "output_type": "execute_result"
    }
   ],
   "source": [
    "f\"check: {dic}\""
   ]
  }
 ],
 "metadata": {
  "kernelspec": {
   "display_name": "Python 3 (ipykernel)",
   "language": "python",
   "name": "python3"
  },
  "language_info": {
   "codemirror_mode": {
    "name": "ipython",
    "version": 3
   },
   "file_extension": ".py",
   "mimetype": "text/x-python",
   "name": "python",
   "nbconvert_exporter": "python",
   "pygments_lexer": "ipython3",
   "version": "3.10.5"
  }
 },
 "nbformat": 4,
 "nbformat_minor": 5
}
