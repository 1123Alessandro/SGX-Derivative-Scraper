{
 "cells": [
  {
   "cell_type": "code",
   "execution_count": 1,
   "id": "f454df46-4c78-48c1-b660-9b4d8af138ce",
   "metadata": {},
   "outputs": [],
   "source": [
    "import pandas as pd"
   ]
  },
  {
   "cell_type": "code",
   "execution_count": 311,
   "id": "dd1f95c8-04fe-47f8-a9c7-fc7038e94dcd",
   "metadata": {},
   "outputs": [],
   "source": [
    "a = pd.read_parquet('details/tracker.parquet')"
   ]
  },
  {
   "cell_type": "code",
   "execution_count": 312,
   "id": "d7318cde-76c4-48a7-8705-90620f2757e5",
   "metadata": {},
   "outputs": [
    {
     "data": {
      "text/plain": [
       "1"
      ]
     },
     "execution_count": 312,
     "metadata": {},
     "output_type": "execute_result"
    }
   ],
   "source": [
    "a[a.index == '20240306'].shape[0]"
   ]
  },
  {
   "cell_type": "code",
   "execution_count": 316,
   "id": "4db2c249-cb4a-48c9-9168-43c718f97682",
   "metadata": {},
   "outputs": [
    {
     "data": {
      "text/html": [
       "<div>\n",
       "<style scoped>\n",
       "    .dataframe tbody tr th:only-of-type {\n",
       "        vertical-align: middle;\n",
       "    }\n",
       "\n",
       "    .dataframe tbody tr th {\n",
       "        vertical-align: top;\n",
       "    }\n",
       "\n",
       "    .dataframe thead th {\n",
       "        text-align: right;\n",
       "    }\n",
       "</style>\n",
       "<table border=\"1\" class=\"dataframe\">\n",
       "  <thead>\n",
       "    <tr style=\"text-align: right;\">\n",
       "      <th></th>\n",
       "      <th>Tick</th>\n",
       "      <th>Tick Data Structure</th>\n",
       "      <th>Trade Cancellation</th>\n",
       "      <th>Trade Cancellation Data Structure</th>\n",
       "      <th>String Date</th>\n",
       "    </tr>\n",
       "  </thead>\n",
       "  <tbody>\n",
       "    <tr>\n",
       "      <th>20240306</th>\n",
       "      <td>1</td>\n",
       "      <td>1</td>\n",
       "      <td>1</td>\n",
       "      <td>1</td>\n",
       "      <td>06 Mar 2024</td>\n",
       "    </tr>\n",
       "  </tbody>\n",
       "</table>\n",
       "</div>"
      ],
      "text/plain": [
       "          Tick  Tick Data Structure  Trade Cancellation  \\\n",
       "20240306     1                    1                   1   \n",
       "\n",
       "          Trade Cancellation Data Structure  String Date  \n",
       "20240306                                  1  06 Mar 2024  "
      ]
     },
     "execution_count": 316,
     "metadata": {},
     "output_type": "execute_result"
    }
   ],
   "source": [
    "a"
   ]
  },
  {
   "cell_type": "code",
   "execution_count": 318,
   "id": "2c768f9b-94d7-4d4b-8aa1-600ca6cfde1f",
   "metadata": {},
   "outputs": [],
   "source": [
    "b = a[a.isna().any(axis=1)]"
   ]
  },
  {
   "cell_type": "code",
   "execution_count": 319,
   "id": "891bfc64-2f02-4e23-8e07-2f5474e8aeea",
   "metadata": {},
   "outputs": [
    {
     "data": {
      "text/html": [
       "<div>\n",
       "<style scoped>\n",
       "    .dataframe tbody tr th:only-of-type {\n",
       "        vertical-align: middle;\n",
       "    }\n",
       "\n",
       "    .dataframe tbody tr th {\n",
       "        vertical-align: top;\n",
       "    }\n",
       "\n",
       "    .dataframe thead th {\n",
       "        text-align: right;\n",
       "    }\n",
       "</style>\n",
       "<table border=\"1\" class=\"dataframe\">\n",
       "  <thead>\n",
       "    <tr style=\"text-align: right;\">\n",
       "      <th></th>\n",
       "      <th>Tick</th>\n",
       "      <th>Tick Data Structure</th>\n",
       "      <th>Trade Cancellation</th>\n",
       "      <th>Trade Cancellation Data Structure</th>\n",
       "      <th>String Date</th>\n",
       "    </tr>\n",
       "  </thead>\n",
       "  <tbody>\n",
       "  </tbody>\n",
       "</table>\n",
       "</div>"
      ],
      "text/plain": [
       "Empty DataFrame\n",
       "Columns: [Tick, Tick Data Structure, Trade Cancellation, Trade Cancellation Data Structure, String Date]\n",
       "Index: []"
      ]
     },
     "execution_count": 319,
     "metadata": {},
     "output_type": "execute_result"
    }
   ],
   "source": [
    "b"
   ]
  },
  {
   "cell_type": "code",
   "execution_count": 293,
   "id": "15fb2ecf-9243-4271-8cb7-97b85ebe3962",
   "metadata": {},
   "outputs": [],
   "source": [
    "for i in ['Tick', 'Tick Data Structure', 'Trade Cancellation', 'Trade Cancellation Data Structure']:\n",
    "    b[i] = 1"
   ]
  },
  {
   "cell_type": "code",
   "execution_count": 294,
   "id": "6e595e21-55a8-470d-bfe6-9bd726de3d04",
   "metadata": {},
   "outputs": [],
   "source": [
    "a.loc[b.index] = b"
   ]
  },
  {
   "cell_type": "code",
   "execution_count": 295,
   "id": "f1c73397-3e21-4a67-be61-74ba6259d1b8",
   "metadata": {},
   "outputs": [
    {
     "data": {
      "text/html": [
       "<div>\n",
       "<style scoped>\n",
       "    .dataframe tbody tr th:only-of-type {\n",
       "        vertical-align: middle;\n",
       "    }\n",
       "\n",
       "    .dataframe tbody tr th {\n",
       "        vertical-align: top;\n",
       "    }\n",
       "\n",
       "    .dataframe thead th {\n",
       "        text-align: right;\n",
       "    }\n",
       "</style>\n",
       "<table border=\"1\" class=\"dataframe\">\n",
       "  <thead>\n",
       "    <tr style=\"text-align: right;\">\n",
       "      <th></th>\n",
       "      <th>Tick</th>\n",
       "      <th>Tick Data Structure</th>\n",
       "      <th>Trade Cancellation</th>\n",
       "      <th>Trade Cancellation Data Structure</th>\n",
       "      <th>String Date</th>\n",
       "    </tr>\n",
       "  </thead>\n",
       "  <tbody>\n",
       "    <tr>\n",
       "      <th>20240306</th>\n",
       "      <td>1</td>\n",
       "      <td>1</td>\n",
       "      <td>1</td>\n",
       "      <td>1</td>\n",
       "      <td>06 Mar 2024</td>\n",
       "    </tr>\n",
       "  </tbody>\n",
       "</table>\n",
       "</div>"
      ],
      "text/plain": [
       "         Tick Tick Data Structure Trade Cancellation  \\\n",
       "20240306    1                   1                  1   \n",
       "\n",
       "         Trade Cancellation Data Structure  String Date  \n",
       "20240306                                 1  06 Mar 2024  "
      ]
     },
     "execution_count": 295,
     "metadata": {},
     "output_type": "execute_result"
    }
   ],
   "source": [
    "a"
   ]
  },
  {
   "cell_type": "code",
   "execution_count": 85,
   "id": "1304d2a7-0071-4880-9dc4-416a725e0873",
   "metadata": {},
   "outputs": [],
   "source": [
    "ll = a[a.isna().any(axis=1)].index"
   ]
  },
  {
   "cell_type": "code",
   "execution_count": 86,
   "id": "a4444c8b-cdab-4214-b136-ad5b952607cd",
   "metadata": {},
   "outputs": [
    {
     "data": {
      "text/plain": [
       "Index(['20240306'], dtype='object')"
      ]
     },
     "execution_count": 86,
     "metadata": {},
     "output_type": "execute_result"
    }
   ],
   "source": [
    "ll"
   ]
  },
  {
   "cell_type": "code",
   "execution_count": 87,
   "id": "375efef1-03db-46e9-b369-b629544e19e6",
   "metadata": {},
   "outputs": [
    {
     "name": "stdout",
     "output_type": "stream",
     "text": [
      "this is the ll: 20240306\n"
     ]
    }
   ],
   "source": [
    "for i in ll:\n",
    "    print('this is the ll: ' + i)"
   ]
  },
  {
   "cell_type": "code",
   "execution_count": 88,
   "id": "03953bf5-ca0d-4644-ab5d-19104304c967",
   "metadata": {},
   "outputs": [],
   "source": [
    "    dic = {\n",
    "        'Tick': 1,\n",
    "        'Tick Data Structure': 2,\n",
    "        'Trade Cancellation': 3,\n",
    "        'Trade Cancellation Data Structure': 3\n",
    "    }\n"
   ]
  },
  {
   "cell_type": "code",
   "execution_count": 89,
   "id": "920575f7-159c-449f-895e-7f64b026b3fa",
   "metadata": {},
   "outputs": [],
   "source": [
    "x = pd.DataFrame(dic, index=['allah'])"
   ]
  },
  {
   "cell_type": "code",
   "execution_count": 90,
   "id": "89ddb213-f974-4e12-ab98-4d0332175f0a",
   "metadata": {},
   "outputs": [],
   "source": [
    "df = pd.concat([a, x])"
   ]
  },
  {
   "cell_type": "code",
   "execution_count": 91,
   "id": "591fc84a-f363-4f15-9225-04884c57eb54",
   "metadata": {},
   "outputs": [
    {
     "data": {
      "text/html": [
       "<div>\n",
       "<style scoped>\n",
       "    .dataframe tbody tr th:only-of-type {\n",
       "        vertical-align: middle;\n",
       "    }\n",
       "\n",
       "    .dataframe tbody tr th {\n",
       "        vertical-align: top;\n",
       "    }\n",
       "\n",
       "    .dataframe thead th {\n",
       "        text-align: right;\n",
       "    }\n",
       "</style>\n",
       "<table border=\"1\" class=\"dataframe\">\n",
       "  <thead>\n",
       "    <tr style=\"text-align: right;\">\n",
       "      <th></th>\n",
       "      <th>Tick</th>\n",
       "      <th>Tick Data Structure</th>\n",
       "      <th>Trade Cancellation</th>\n",
       "      <th>Trade Cancellation Data Structure</th>\n",
       "    </tr>\n",
       "  </thead>\n",
       "  <tbody>\n",
       "    <tr>\n",
       "      <th>20240306</th>\n",
       "      <td>None</td>\n",
       "      <td>None</td>\n",
       "      <td>None</td>\n",
       "      <td>None</td>\n",
       "    </tr>\n",
       "  </tbody>\n",
       "</table>\n",
       "</div>"
      ],
      "text/plain": [
       "          Tick Tick Data Structure Trade Cancellation  \\\n",
       "20240306  None                None               None   \n",
       "\n",
       "         Trade Cancellation Data Structure  \n",
       "20240306                              None  "
      ]
     },
     "execution_count": 91,
     "metadata": {},
     "output_type": "execute_result"
    }
   ],
   "source": [
    "df[df.isna().any(axis=1)]"
   ]
  },
  {
   "cell_type": "code",
   "execution_count": 100,
   "id": "de6eaf25-5783-401e-a6a6-3e3c5ce09132",
   "metadata": {},
   "outputs": [
    {
     "data": {
      "text/html": [
       "<div>\n",
       "<style scoped>\n",
       "    .dataframe tbody tr th:only-of-type {\n",
       "        vertical-align: middle;\n",
       "    }\n",
       "\n",
       "    .dataframe tbody tr th {\n",
       "        vertical-align: top;\n",
       "    }\n",
       "\n",
       "    .dataframe thead th {\n",
       "        text-align: right;\n",
       "    }\n",
       "</style>\n",
       "<table border=\"1\" class=\"dataframe\">\n",
       "  <thead>\n",
       "    <tr style=\"text-align: right;\">\n",
       "      <th></th>\n",
       "      <th>Tick</th>\n",
       "      <th>Tick Data Structure</th>\n",
       "      <th>Trade Cancellation</th>\n",
       "      <th>Trade Cancellation Data Structure</th>\n",
       "    </tr>\n",
       "  </thead>\n",
       "  <tbody>\n",
       "    <tr>\n",
       "      <th>20240306</th>\n",
       "      <td>None</td>\n",
       "      <td>None</td>\n",
       "      <td>None</td>\n",
       "      <td>None</td>\n",
       "    </tr>\n",
       "    <tr>\n",
       "      <th>allah</th>\n",
       "      <td>1</td>\n",
       "      <td>2</td>\n",
       "      <td>3</td>\n",
       "      <td>3</td>\n",
       "    </tr>\n",
       "  </tbody>\n",
       "</table>\n",
       "</div>"
      ],
      "text/plain": [
       "          Tick Tick Data Structure Trade Cancellation  \\\n",
       "20240306  None                None               None   \n",
       "allah        1                   2                  3   \n",
       "\n",
       "         Trade Cancellation Data Structure  \n",
       "20240306                              None  \n",
       "allah                                    3  "
      ]
     },
     "execution_count": 100,
     "metadata": {},
     "output_type": "execute_result"
    }
   ],
   "source": [
    "df"
   ]
  }
 ],
 "metadata": {
  "kernelspec": {
   "display_name": "Python 3 (ipykernel)",
   "language": "python",
   "name": "python3"
  },
  "language_info": {
   "codemirror_mode": {
    "name": "ipython",
    "version": 3
   },
   "file_extension": ".py",
   "mimetype": "text/x-python",
   "name": "python",
   "nbconvert_exporter": "python",
   "pygments_lexer": "ipython3",
   "version": "3.10.5"
  }
 },
 "nbformat": 4,
 "nbformat_minor": 5
}
