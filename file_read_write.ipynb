{
 "cells": [
  {
   "cell_type": "code",
   "execution_count": 5,
   "id": "9bb04495-3db0-4d48-8a59-000f65230146",
   "metadata": {},
   "outputs": [],
   "source": [
    "dic = {\n",
    "    'a': None\n",
    "}"
   ]
  },
  {
   "cell_type": "code",
   "execution_count": 6,
   "id": "a5799e77-47e4-4660-8ba4-23a2ec08db1a",
   "metadata": {},
   "outputs": [],
   "source": [
    "import json"
   ]
  },
  {
   "cell_type": "code",
   "execution_count": 8,
   "id": "90a74348-5be9-4fee-9fbc-77fff6e15bfb",
   "metadata": {},
   "outputs": [],
   "source": [
    "js = json.dumps(dic)"
   ]
  },
  {
   "cell_type": "code",
   "execution_count": 11,
   "id": "90bca699-0da0-4bce-9492-d06a0bea8412",
   "metadata": {},
   "outputs": [
    {
     "data": {
      "text/plain": [
       "{'a': None}"
      ]
     },
     "execution_count": 11,
     "metadata": {},
     "output_type": "execute_result"
    }
   ],
   "source": [
    "json.loads(js)"
   ]
  },
  {
   "cell_type": "code",
   "execution_count": 112,
   "id": "52eabe3c-0e85-409e-afbf-78a38cb88417",
   "metadata": {},
   "outputs": [],
   "source": [
    "jsarr = ''"
   ]
  },
  {
   "cell_type": "code",
   "execution_count": 113,
   "id": "f53567d7-1d60-4bd6-b3aa-e35287b448df",
   "metadata": {},
   "outputs": [],
   "source": [
    "with open('dags\\config.json') as file:\n",
    "    jsarr = file.readlines()"
   ]
  },
  {
   "cell_type": "code",
   "execution_count": 114,
   "id": "df2f8290-11b6-4eda-939e-0586489e8d67",
   "metadata": {},
   "outputs": [],
   "source": [
    "jsraw = ''.join(jsarr)"
   ]
  },
  {
   "cell_type": "code",
   "execution_count": 115,
   "id": "8ba8ca55-502d-4aee-8340-2194e8b1db39",
   "metadata": {},
   "outputs": [],
   "source": [
    "config = json.loads(jsraw)"
   ]
  },
  {
   "cell_type": "code",
   "execution_count": 116,
   "id": "928b6384-fb16-4226-9221-5646310c34ec",
   "metadata": {},
   "outputs": [
    {
     "data": {
      "text/plain": [
       "{'dl_historical_files': True}"
      ]
     },
     "execution_count": 116,
     "metadata": {},
     "output_type": "execute_result"
    }
   ],
   "source": [
    "config"
   ]
  },
  {
   "cell_type": "code",
   "execution_count": 117,
   "id": "80f7cf8e-ca9e-4707-8b16-3afeb8667878",
   "metadata": {},
   "outputs": [
    {
     "data": {
      "text/plain": [
       "'{\\n  \"dl_historical_files\": true\\n}'"
      ]
     },
     "execution_count": 117,
     "metadata": {},
     "output_type": "execute_result"
    }
   ],
   "source": [
    "json.dumps(config, indent=2)"
   ]
  },
  {
   "cell_type": "code",
   "execution_count": 118,
   "id": "d5fba564-def3-4bbf-988c-522734340de7",
   "metadata": {},
   "outputs": [],
   "source": [
    "with open('dags\\config.json', 'w') as file:\n",
    "    file.writelines(json.dumps(config, indent=2))"
   ]
  },
  {
   "cell_type": "code",
   "execution_count": null,
   "id": "b85d67d2-da1c-40c0-82fd-b576fdba2d51",
   "metadata": {},
   "outputs": [],
   "source": []
  },
  {
   "cell_type": "code",
   "execution_count": 119,
   "id": "725dde68-d45f-4261-8065-cf0d50bcef02",
   "metadata": {},
   "outputs": [],
   "source": [
    "import pandas as pd"
   ]
  },
  {
   "cell_type": "code",
   "execution_count": 123,
   "id": "4f3ae6e8-2955-4bdd-97bf-19290d98522c",
   "metadata": {},
   "outputs": [],
   "source": [
    "dic = {\n",
    "    'a': [1]\n",
    "}"
   ]
  },
  {
   "cell_type": "code",
   "execution_count": 125,
   "id": "91628793-d5f0-4b17-bb13-012595973608",
   "metadata": {},
   "outputs": [
    {
     "data": {
      "text/html": [
       "<div>\n",
       "<style scoped>\n",
       "    .dataframe tbody tr th:only-of-type {\n",
       "        vertical-align: middle;\n",
       "    }\n",
       "\n",
       "    .dataframe tbody tr th {\n",
       "        vertical-align: top;\n",
       "    }\n",
       "\n",
       "    .dataframe thead th {\n",
       "        text-align: right;\n",
       "    }\n",
       "</style>\n",
       "<table border=\"1\" class=\"dataframe\">\n",
       "  <thead>\n",
       "    <tr style=\"text-align: right;\">\n",
       "      <th></th>\n",
       "      <th>a</th>\n",
       "    </tr>\n",
       "  </thead>\n",
       "  <tbody>\n",
       "    <tr>\n",
       "      <th>hell</th>\n",
       "      <td>1</td>\n",
       "    </tr>\n",
       "  </tbody>\n",
       "</table>\n",
       "</div>"
      ],
      "text/plain": [
       "      a\n",
       "hell  1"
      ]
     },
     "execution_count": 125,
     "metadata": {},
     "output_type": "execute_result"
    }
   ],
   "source": [
    "pd.DataFrame(dic, index=['hell'])"
   ]
  },
  {
   "cell_type": "code",
   "execution_count": null,
   "id": "e9ba21ae-f872-4419-a327-8d7d37ff8005",
   "metadata": {},
   "outputs": [],
   "source": []
  }
 ],
 "metadata": {
  "kernelspec": {
   "display_name": "Python 3 (ipykernel)",
   "language": "python",
   "name": "python3"
  },
  "language_info": {
   "codemirror_mode": {
    "name": "ipython",
    "version": 3
   },
   "file_extension": ".py",
   "mimetype": "text/x-python",
   "name": "python",
   "nbconvert_exporter": "python",
   "pygments_lexer": "ipython3",
   "version": "3.10.5"
  }
 },
 "nbformat": 4,
 "nbformat_minor": 5
}
